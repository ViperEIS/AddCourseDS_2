{
 "cells": [
  {
   "cell_type": "code",
   "execution_count": 201,
   "metadata": {
    "ExecuteTime": {
     "end_time": "2020-11-24T09:51:51.024719Z",
     "start_time": "2020-11-24T09:51:51.016603Z"
    }
   },
   "outputs": [],
   "source": [
    "import numpy as np\n",
    "from numpy import linalg as la\n",
    "import pandas as pd\n",
    "from random import randrange\n",
    "from sklearn.metrics import mean_squared_error as mse"
   ]
  },
  {
   "cell_type": "code",
   "execution_count": 202,
   "metadata": {
    "ExecuteTime": {
     "end_time": "2020-11-24T09:51:51.564101Z",
     "start_time": "2020-11-24T09:51:51.555502Z"
    }
   },
   "outputs": [],
   "source": [
    "def mtrx_reg(x, y, x_pred, y_pred):\n",
    "    z_pred = np.array([[el[0], el[1], 1] for el in zip(x_pred, y_pred)])\n",
    "    b_x = la.inv(z_pred.transpose().dot(z_pred)).dot(z_pred.transpose().dot(x))\n",
    "    b_y = la.inv(z_pred.transpose().dot(z_pred)).dot(z_pred.transpose().dot(y))\n",
    "    return np.array([b_x, b_y])"
   ]
  },
  {
   "cell_type": "code",
   "execution_count": 203,
   "metadata": {
    "ExecuteTime": {
     "end_time": "2020-11-24T09:51:51.978538Z",
     "start_time": "2020-11-24T09:51:51.967483Z"
    }
   },
   "outputs": [
    {
     "data": {
      "text/plain": [
       "array([[ 2.68487901e-02,  7.49157373e-02, -2.58930630e+01],\n",
       "       [ 5.18382029e-02,  1.57937447e-03, -3.79199198e+01]])"
      ]
     },
     "execution_count": 203,
     "metadata": {},
     "output_type": "execute_result"
    }
   ],
   "source": [
    "mtrx_reg([142.123,152.123,122.123,112.123, 0, 0, 0], [99.570*2,0,0,0,10,15,-10], [1680.721,2065.147,911.499,526.798,1290.920,1285.731,1300.953], [968.321,964.366,976.283,980.035, 587.055,394.727,1355.487])"
   ]
  },
  {
   "cell_type": "code",
   "execution_count": 204,
   "metadata": {
    "ExecuteTime": {
     "end_time": "2020-11-24T09:51:52.460730Z",
     "start_time": "2020-11-24T09:51:52.440551Z"
    }
   },
   "outputs": [],
   "source": [
    "def mtrx_reg_robust_lms(x, y, x_pred, y_pred, S, treshold):\n",
    "    '''\n",
    "    3 random points\n",
    "    '''    \n",
    "    res = list()\n",
    "    x_gen = x\n",
    "    y_gen = y\n",
    "    x_pred_gen = x_pred\n",
    "    y_pred_gen = y_pred\n",
    "    z_pred_gen = np.array([[el[0], el[1], 1]\n",
    "                           for el in zip(x_pred_gen, y_pred_gen)])\n",
    "\n",
    "    for i in range(S):\n",
    "        el1, el2, el3 = randrange(len(x_gen)), randrange(len(x_gen)), randrange(len(x_gen))\n",
    "        while (el1 == el2) or (el1 == el3) or (el2 == el3):\n",
    "            el1, el2, el3 = randrange(len(x_gen)), randrange(\n",
    "                len(x_gen)), randrange(len(x_gen))\n",
    "\n",
    "        z_pred = z_pred_gen[[el1, el2, el3]]\n",
    "\n",
    "        x = np.array(x_gen)[[el1, el2, el3]]\n",
    "        y = np.array(y_gen)[[el1, el2, el3]]\n",
    "\n",
    "        x_pred = np.array(x_pred_gen)[[el1, el2, el3]]\n",
    "        y_pred = np.array(y_pred_gen)[[el1, el2, el3]]\n",
    "\n",
    "        b_x = la.inv(z_pred.transpose().dot(z_pred)).dot(\n",
    "            z_pred.transpose().dot(x))\n",
    "        b_y = la.inv(z_pred.transpose().dot(z_pred)).dot(\n",
    "            z_pred.transpose().dot(y))\n",
    "\n",
    "        principal_points = {'x': [], 'y': [], 'x_pred': [], 'y_pred': []}\n",
    "        num_inl = 0\n",
    "        # print(z_pred[0].dot(b_x))\n",
    "        # break\n",
    "        for i in range(len(x_gen)):\n",
    "            if (x_gen[i] - z_pred_gen[i].dot(b_x))**2 + (y_gen[i] - z_pred_gen[i].dot(b_y))**2 < treshold:\n",
    "                principal_points['x'].append(x_gen[i])\n",
    "                principal_points['y'].append(y_gen[i])\n",
    "                principal_points['x_pred'].append(x_pred_gen[i])\n",
    "                principal_points['y_pred'].append(y_pred_gen[i])\n",
    "                num_inl += 1\n",
    "\n",
    "        res.append((principal_points, num_inl))\n",
    "    \n",
    "    max_num_inl = max(np.array(res)[:, 1])\n",
    "    for el in res:\n",
    "        if el[1] == max_num_inl:\n",
    "            return mtrx_reg(el[0]['x'], el[0]['y'], el[0]['x_pred'], el[0]['y_pred'])"
   ]
  },
  {
   "cell_type": "code",
   "execution_count": 205,
   "metadata": {
    "ExecuteTime": {
     "end_time": "2020-11-24T09:51:53.269182Z",
     "start_time": "2020-11-24T09:51:53.253045Z"
    }
   },
   "outputs": [
    {
     "data": {
      "text/plain": [
       "array([[ 2.95035994e-02,  3.42611969e-01, -2.39218840e+02],\n",
       "       [-2.65253971e-04, -2.59572788e-02,  2.55807708e+01]])"
      ]
     },
     "execution_count": 205,
     "metadata": {},
     "output_type": "execute_result"
    }
   ],
   "source": [
    "mtrx_reg_robust_lms([142.123,152.123,122.123,112.123, 0, 0, 0], [99.570*2,0,0,0,10,15,-10], [1680.721,2065.147,911.499,526.798,1290.920,1285.731,1300.953], [968.321,964.366,976.283,980.035, 587.055,394.727,1355.487], 4, 0.1)"
   ]
  },
  {
   "cell_type": "code",
   "execution_count": null,
   "metadata": {},
   "outputs": [],
   "source": []
  }
 ],
 "metadata": {
  "kernelspec": {
   "display_name": "Python 3",
   "language": "python",
   "name": "python3"
  },
  "language_info": {
   "codemirror_mode": {
    "name": "ipython",
    "version": 3
   },
   "file_extension": ".py",
   "mimetype": "text/x-python",
   "name": "python",
   "nbconvert_exporter": "python",
   "pygments_lexer": "ipython3",
   "version": "3.8.6"
  }
 },
 "nbformat": 4,
 "nbformat_minor": 4
}
