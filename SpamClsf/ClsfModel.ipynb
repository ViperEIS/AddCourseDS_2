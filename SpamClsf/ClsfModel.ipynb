{
 "cells": [
  {
   "cell_type": "code",
   "execution_count": 1,
   "metadata": {
    "ExecuteTime": {
     "end_time": "2020-12-02T20:08:13.622636Z",
     "start_time": "2020-12-02T20:08:11.880567Z"
    }
   },
   "outputs": [
    {
     "name": "stdout",
     "output_type": "stream",
     "text": [
      "Populating the interactive namespace from numpy and matplotlib\n"
     ]
    }
   ],
   "source": [
    "import warnings\n",
    "warnings.filterwarnings('ignore')\n",
    "import numpy as np\n",
    "import pandas as pd\n",
    "import matplotlib.pyplot as plt\n",
    "import seaborn as sns\n",
    "import scipy.io\n",
    "from sklearn.metrics import confusion_matrix\n",
    "%matplotlib inline\n",
    "%pylab inline"
   ]
  },
  {
   "cell_type": "code",
   "execution_count": 14,
   "metadata": {
    "ExecuteTime": {
     "end_time": "2020-12-01T07:17:17.521772Z",
     "start_time": "2020-12-01T07:17:17.477517Z"
    }
   },
   "outputs": [],
   "source": [
    "data = scipy.io.loadmat('spamTrain.mat')\n",
    "holdout = scipy.io.loadmat('spamTest.mat')"
   ]
  },
  {
   "cell_type": "code",
   "execution_count": 46,
   "metadata": {
    "ExecuteTime": {
     "end_time": "2020-12-01T07:26:49.101055Z",
     "start_time": "2020-12-01T07:26:49.094611Z"
    }
   },
   "outputs": [],
   "source": [
    "X_train = pd.DataFrame(data['X'])\n",
    "y_train = pd.Series(data['y'].transpose()[0])\n",
    "\n",
    "hld_X = pd.DataFrame(holdout['Xtest'])\n",
    "hld_y = pd.Series(holdout['ytest'].transpose()[0])"
   ]
  },
  {
   "cell_type": "code",
   "execution_count": 2,
   "metadata": {
    "ExecuteTime": {
     "end_time": "2020-12-02T20:08:14.217180Z",
     "start_time": "2020-12-02T20:08:14.084131Z"
    }
   },
   "outputs": [],
   "source": [
    "from sklearn.model_selection import GridSearchCV\n",
    "from sklearn.metrics import roc_auc_score, roc_curve\n",
    "from sklearn.linear_model import LogisticRegression\n",
    "from sklearn.tree import DecisionTreeClassifier\n",
    "from xgboost import XGBClassifier"
   ]
  },
  {
   "cell_type": "code",
   "execution_count": 57,
   "metadata": {
    "ExecuteTime": {
     "end_time": "2020-12-01T07:32:10.737099Z",
     "start_time": "2020-12-01T07:32:10.728338Z"
    }
   },
   "outputs": [],
   "source": [
    "def plot_roc(hld_y, pred_proba_holdout, auc_score_hld):\n",
    "    fpr, tpr, thresholds = roc_curve(hld_y, pred_proba_holdout)\n",
    "    plt.plot([0, 1], [0, 1], linestyle='--')\n",
    "    plt.plot(fpr, tpr, label='ROC curve holdout (area = %0.2f)' % auc_score_hld, marker='.')\n",
    "    plt.title(\"ROC curve\")\n",
    "    plt.xlabel('false positive rate')\n",
    "    plt.ylabel('true positive rate')\n",
    "    plt.legend(loc=\"lower right\")\n",
    "    plt.show()"
   ]
  },
  {
   "cell_type": "markdown",
   "metadata": {},
   "source": [
    "### Логистическая регрессия"
   ]
  },
  {
   "cell_type": "code",
   "execution_count": 44,
   "metadata": {
    "ExecuteTime": {
     "end_time": "2020-12-01T07:26:18.386033Z",
     "start_time": "2020-12-01T07:25:59.662836Z"
    }
   },
   "outputs": [
    {
     "data": {
      "text/plain": [
       "GridSearchCV(estimator=LogisticRegression(),\n",
       "             param_grid={'C': [0.01, 0.1, 1],\n",
       "                         'class_weight': ['balanced', None],\n",
       "                         'penalty': ['l1', 'l2']},\n",
       "             scoring='roc_auc')"
      ]
     },
     "execution_count": 44,
     "metadata": {},
     "output_type": "execute_result"
    }
   ],
   "source": [
    "param_grid = {\n",
    "            'penalty' : ['l1','l2'], \n",
    "            'class_weight' : ['balanced', None], \n",
    "            'C' : [0.01, 0.1, 1]\n",
    "            }\n",
    "\n",
    "grid_log = GridSearchCV(estimator = LogisticRegression(), param_grid = param_grid , scoring = 'roc_auc')\n",
    "grid_log.fit(X_train, y_train)"
   ]
  },
  {
   "cell_type": "markdown",
   "metadata": {},
   "source": [
    "##### ROC Curve"
   ]
  },
  {
   "cell_type": "code",
   "execution_count": 69,
   "metadata": {
    "ExecuteTime": {
     "end_time": "2020-12-01T07:36:24.182682Z",
     "start_time": "2020-12-01T07:36:23.973613Z"
    },
    "scrolled": true
   },
   "outputs": [
    {
     "name": "stdout",
     "output_type": "stream",
     "text": [
      "roc auc score holdout: 0.9978980557015239\n"
     ]
    },
    {
     "data": {
      "image/png": "[encoded data removed]",
      "text/plain": [
       "<Figure size 432x288 with 1 Axes>"
      ]
     },
     "metadata": {
      "needs_background": "light"
     },
     "output_type": "display_data"
    }
   ],
   "source": [
    "pred_proba_holdout = grid_log.best_estimator_.predict_proba(hld_X)[:, 1]\n",
    "auc_score_hld = roc_auc_score(hld_y, pred_proba_holdout)\n",
    "\n",
    "print('roc auc score holdout:', auc_score_hld)\n",
    "\n",
    "plot_roc(hld_y, pred_proba_holdout, auc_score_hld)"
   ]
  },
  {
   "cell_type": "markdown",
   "metadata": {},
   "source": [
    "##### Confusion matrix"
   ]
  },
  {
   "cell_type": "code",
   "execution_count": 68,
   "metadata": {
    "ExecuteTime": {
     "end_time": "2020-12-01T07:36:02.820623Z",
     "start_time": "2020-12-01T07:36:02.784786Z"
    }
   },
   "outputs": [
    {
     "data": {
      "text/plain": [
       "array([[688,   4],\n",
       "       [  2, 306]])"
      ]
     },
     "execution_count": 68,
     "metadata": {},
     "output_type": "execute_result"
    }
   ],
   "source": [
    "confusion_matrix(hld_y, grid_log.best_estimator_.predict(hld_X))"
   ]
  },
  {
   "cell_type": "markdown",
   "metadata": {},
   "source": [
    "### Дерево решений"
   ]
  },
  {
   "cell_type": "code",
   "execution_count": 74,
   "metadata": {
    "ExecuteTime": {
     "end_time": "2020-12-01T07:42:46.588724Z",
     "start_time": "2020-12-01T07:42:38.694754Z"
    }
   },
   "outputs": [
    {
     "data": {
      "text/plain": [
       "GridSearchCV(estimator=DecisionTreeClassifier(),\n",
       "             param_grid={'max_depth': range(1, 12, 5),\n",
       "                         'min_samples_split': range(2, 10, 5)},\n",
       "             scoring='roc_auc')"
      ]
     },
     "execution_count": 74,
     "metadata": {},
     "output_type": "execute_result"
    }
   ],
   "source": [
    "param_grid = {\n",
    "            'max_depth': range(1, 12, 5), \n",
    "            'min_samples_split': range(2, 10, 5)\n",
    "            }\n",
    "\n",
    "grid_dt = GridSearchCV(estimator = DecisionTreeClassifier(), param_grid = param_grid , scoring = 'roc_auc')\n",
    "grid_dt.fit(X_train, y_train)"
   ]
  },
  {
   "cell_type": "markdown",
   "metadata": {},
   "source": [
    "##### ROC Curve"
   ]
  },
  {
   "cell_type": "code",
   "execution_count": 75,
   "metadata": {
    "ExecuteTime": {
     "end_time": "2020-12-01T07:43:18.044125Z",
     "start_time": "2020-12-01T07:43:17.841664Z"
    },
    "scrolled": false
   },
   "outputs": [
    {
     "name": "stdout",
     "output_type": "stream",
     "text": [
      "roc auc score holdout: 0.9126684370542753\n"
     ]
    },
    {
     "data": {
      "image/png": "[encoded data removed]",
      "text/plain": [
       "<Figure size 432x288 with 1 Axes>"
      ]
     },
     "metadata": {
      "needs_background": "light"
     },
     "output_type": "display_data"
    }
   ],
   "source": [
    "pred_proba_holdout = grid_dt.best_estimator_.predict_proba(hld_X)[:, 1]\n",
    "auc_score_hld = roc_auc_score(hld_y, pred_proba_holdout)\n",
    "\n",
    "print('roc auc score holdout:', auc_score_hld)\n",
    "\n",
    "plot_roc(hld_y, pred_proba_holdout, auc_score_hld)"
   ]
  },
  {
   "cell_type": "markdown",
   "metadata": {},
   "source": [
    "##### Confusion matrix"
   ]
  },
  {
   "cell_type": "code",
   "execution_count": 76,
   "metadata": {
    "ExecuteTime": {
     "end_time": "2020-12-01T07:43:58.305598Z",
     "start_time": "2020-12-01T07:43:58.271538Z"
    }
   },
   "outputs": [
    {
     "data": {
      "text/plain": [
       "array([[668,  24],\n",
       "       [ 34, 274]])"
      ]
     },
     "execution_count": 76,
     "metadata": {},
     "output_type": "execute_result"
    }
   ],
   "source": [
    "confusion_matrix(hld_y, grid_dt.best_estimator_.predict(hld_X))"
   ]
  },
  {
   "cell_type": "markdown",
   "metadata": {},
   "source": [
    "### XGBoost"
   ]
  },
  {
   "cell_type": "code",
   "execution_count": 77,
   "metadata": {
    "ExecuteTime": {
     "end_time": "2020-12-01T07:56:04.327039Z",
     "start_time": "2020-12-01T07:49:43.000990Z"
    }
   },
   "outputs": [
    {
     "data": {
      "text/plain": [
       "GridSearchCV(estimator=XGBClassifier(base_score=None, booster=None,\n",
       "                                     colsample_bylevel=None,\n",
       "                                     colsample_bynode=None,\n",
       "                                     colsample_bytree=None, gamma=None,\n",
       "                                     gpu_id=None, importance_type='gain',\n",
       "                                     interaction_constraints=None,\n",
       "                                     learning_rate=None, max_delta_step=None,\n",
       "                                     max_depth=3, min_child_weight=None,\n",
       "                                     missing=nan, monotone_constraints=None,\n",
       "                                     n_estimators=100, n_jobs=None,\n",
       "                                     num_parallel_tree=None, random_state=None,\n",
       "                                     reg_alpha=None, reg_lambda=None,\n",
       "                                     scale_pos_weight=None, subsample=None,\n",
       "                                     tree_method=None, validate_parameters=None,\n",
       "                                     verbosity=None),\n",
       "             param_grid={'n_estimators': range(100, 400, 100)},\n",
       "             scoring='roc_auc')"
      ]
     },
     "execution_count": 77,
     "metadata": {},
     "output_type": "execute_result"
    }
   ],
   "source": [
    "param_grid = { \n",
    "            'n_estimators': range(100, 400, 100)\n",
    "            }\n",
    "\n",
    "grid_xgb = GridSearchCV(estimator = XGBClassifier(max_depth=3), param_grid = param_grid , scoring = 'roc_auc')\n",
    "grid_xgb.fit(X_train, y_train)"
   ]
  },
  {
   "cell_type": "markdown",
   "metadata": {},
   "source": [
    "##### ROC Curve"
   ]
  },
  {
   "cell_type": "code",
   "execution_count": 78,
   "metadata": {
    "ExecuteTime": {
     "end_time": "2020-12-01T07:57:22.451675Z",
     "start_time": "2020-12-01T07:57:22.115898Z"
    }
   },
   "outputs": [
    {
     "name": "stdout",
     "output_type": "stream",
     "text": [
      "roc auc score holdout: 0.9989068012911944\n"
     ]
    },
    {
     "data": {
      "image/png": "[encoded data removed]",
      "text/plain": [
       "<Figure size 432x288 with 1 Axes>"
      ]
     },
     "metadata": {
      "needs_background": "light"
     },
     "output_type": "display_data"
    }
   ],
   "source": [
    "pred_proba_holdout = grid_xgb.best_estimator_.predict_proba(hld_X)[:, 1]\n",
    "auc_score_hld = roc_auc_score(hld_y, pred_proba_holdout)\n",
    "\n",
    "print('roc auc score holdout:', auc_score_hld)\n",
    "\n",
    "plot_roc(hld_y, pred_proba_holdout, auc_score_hld)"
   ]
  },
  {
   "cell_type": "markdown",
   "metadata": {},
   "source": [
    "##### Confusion matrix"
   ]
  },
  {
   "cell_type": "code",
   "execution_count": 79,
   "metadata": {
    "ExecuteTime": {
     "end_time": "2020-12-01T07:57:26.150461Z",
     "start_time": "2020-12-01T07:57:26.060576Z"
    }
   },
   "outputs": [
    {
     "data": {
      "text/plain": [
       "array([[684,   8],\n",
       "       [  8, 300]])"
      ]
     },
     "execution_count": 79,
     "metadata": {},
     "output_type": "execute_result"
    }
   ],
   "source": [
    "confusion_matrix(hld_y, grid_xgb.best_estimator_.predict(hld_X))"
   ]
  },
  {
   "cell_type": "markdown",
   "metadata": {},
   "source": [
    "##### По результатам анализа несложно заключить, что эффективнее работает алгоритм XGBoostClassifier"
   ]
  },
  {
   "cell_type": "markdown",
   "metadata": {},
   "source": [
    "### NLTK preprocessing"
   ]
  },
  {
   "cell_type": "code",
   "execution_count": 3,
   "metadata": {
    "ExecuteTime": {
     "end_time": "2020-12-02T20:08:18.711000Z",
     "start_time": "2020-12-02T20:08:18.232888Z"
    }
   },
   "outputs": [],
   "source": [
    "from nltk.tokenize import sent_tokenize, word_tokenize\n",
    "from nltk.corpus import stopwords\n",
    "from nltk.stem import SnowballStemmer\n",
    "import pymorphy2"
   ]
  },
  {
   "cell_type": "code",
   "execution_count": 135,
   "metadata": {
    "ExecuteTime": {
     "end_time": "2020-12-01T08:42:26.718607Z",
     "start_time": "2020-12-01T08:42:26.712398Z"
    }
   },
   "outputs": [],
   "source": [
    "text = 'Профессия архитектора тесно тесный связана с изменениями в обществе и, соответственно, подчинена продолжающемуся обсуждению изменяющихся требований к проектированию и строительству. Факторы, которые влияют на это, включают включать технологические разработки разработка, изменения изменению в обществе и изменения процессов организации и осуществления строительства городов и зданий. Сегодня архитекторы нуждаются в комбинации технических, артистических и эстетических, социологических, организационных и экономических навыков. В идеале архитектор - компетентный партнер во всех аспектах проекта, представляя интересы клиентов с одной стороны и общества и сообщества - с другой. Но выше определенного размера проекта отдельный архитектор неспособен принять ответственность за все задачи старых квалифицированных строителей.'"
   ]
  },
  {
   "cell_type": "code",
   "execution_count": 136,
   "metadata": {
    "ExecuteTime": {
     "end_time": "2020-12-01T08:42:26.873196Z",
     "start_time": "2020-12-01T08:42:26.864516Z"
    }
   },
   "outputs": [
    {
     "data": {
      "text/plain": [
       "'Профессия архитектора тесно тесный связана с изменениями в обществе и, соответственно, подчинена продолжающемуся обсуждению изменяющихся требований к проектированию и строительству. Факторы, которые влияют на это, включают включать технологические разработки разработка, изменения изменению в обществе и изменения процессов организации и осуществления строительства городов и зданий. Сегодня архитекторы нуждаются в комбинации технических, артистических и эстетических, социологических, организационных и экономических навыков. В идеале архитектор - компетентный партнер во всех аспектах проекта, представляя интересы клиентов с одной стороны и общества и сообщества - с другой. Но выше определенного размера проекта отдельный архитектор неспособен принять ответственность за все задачи старых квалифицированных строителей.'"
      ]
     },
     "execution_count": 136,
     "metadata": {},
     "output_type": "execute_result"
    }
   ],
   "source": [
    "text"
   ]
  },
  {
   "cell_type": "code",
   "execution_count": 137,
   "metadata": {
    "ExecuteTime": {
     "end_time": "2020-12-01T08:42:27.028454Z",
     "start_time": "2020-12-01T08:42:27.019430Z"
    }
   },
   "outputs": [
    {
     "data": {
      "text/plain": [
       "['Профессия архитектора тесно тесный связана с изменениями в обществе и, соответственно, подчинена продолжающемуся обсуждению изменяющихся требований к проектированию и строительству.',\n",
       " 'Факторы, которые влияют на это, включают включать технологические разработки разработка, изменения изменению в обществе и изменения процессов организации и осуществления строительства городов и зданий.',\n",
       " 'Сегодня архитекторы нуждаются в комбинации технических, артистических и эстетических, социологических, организационных и экономических навыков.',\n",
       " 'В идеале архитектор - компетентный партнер во всех аспектах проекта, представляя интересы клиентов с одной стороны и общества и сообщества - с другой.',\n",
       " 'Но выше определенного размера проекта отдельный архитектор неспособен принять ответственность за все задачи старых квалифицированных строителей.']"
      ]
     },
     "execution_count": 137,
     "metadata": {},
     "output_type": "execute_result"
    }
   ],
   "source": [
    "sent_tokenize(text, language='russian')"
   ]
  },
  {
   "cell_type": "markdown",
   "metadata": {},
   "source": [
    "##### Стоп слова и токенизвация"
   ]
  },
  {
   "cell_type": "code",
   "execution_count": 138,
   "metadata": {
    "ExecuteTime": {
     "end_time": "2020-12-01T08:42:27.307947Z",
     "start_time": "2020-12-01T08:42:27.297902Z"
    },
    "scrolled": true
   },
   "outputs": [
    {
     "name": "stdout",
     "output_type": "stream",
     "text": [
      "До фильтрации: 111\n",
      "После фильтрации: 72\n"
     ]
    }
   ],
   "source": [
    "tokens = word_tokenize(text, language='russian')\n",
    "stop_words = stopwords.words('russian')\n",
    "\n",
    "print('До фильтрации:', len(tokens))\n",
    "\n",
    "filtered_tokens = set()\n",
    "for token in tokens:\n",
    "    if token not in stop_words:\n",
    "        filtered_tokens.add(token)\n",
    "\n",
    "print('После фильтрации:', len(filtered_tokens))"
   ]
  },
  {
   "cell_type": "markdown",
   "metadata": {},
   "source": [
    "##### Стэмминг:"
   ]
  },
  {
   "cell_type": "code",
   "execution_count": 139,
   "metadata": {
    "ExecuteTime": {
     "end_time": "2020-12-01T08:42:27.600343Z",
     "start_time": "2020-12-01T08:42:27.593343Z"
    }
   },
   "outputs": [
    {
     "name": "stdout",
     "output_type": "stream",
     "text": [
      "хоч\n",
      "хотет\n"
     ]
    }
   ],
   "source": [
    "snowball = SnowballStemmer(language='russian')\n",
    "print(snowball.stem('Хочу'))\n",
    "print(snowball.stem('Хотеть'))"
   ]
  },
  {
   "cell_type": "markdown",
   "metadata": {},
   "source": [
    "Не везде хорошо работает простое обрубание (по собственному алгоритму)"
   ]
  },
  {
   "cell_type": "markdown",
   "metadata": {},
   "source": [
    "##### Лемматизация:"
   ]
  },
  {
   "cell_type": "code",
   "execution_count": 140,
   "metadata": {
    "ExecuteTime": {
     "end_time": "2020-12-01T08:42:29.091655Z",
     "start_time": "2020-12-01T08:42:28.977581Z"
    }
   },
   "outputs": [],
   "source": [
    " morph = pymorphy2.MorphAnalyzer()"
   ]
  },
  {
   "cell_type": "code",
   "execution_count": 141,
   "metadata": {
    "ExecuteTime": {
     "end_time": "2020-12-01T08:42:29.469006Z",
     "start_time": "2020-12-01T08:42:29.463971Z"
    }
   },
   "outputs": [
    {
     "name": "stdout",
     "output_type": "stream",
     "text": [
      "хотеть\n",
      "хотеть\n"
     ]
    }
   ],
   "source": [
    "print(morph.parse('Хочу')[0].normal_form)\n",
    "print(morph.parse('Хотеть')[0].normal_form)"
   ]
  },
  {
   "cell_type": "markdown",
   "metadata": {
    "ExecuteTime": {
     "end_time": "2020-12-01T08:31:30.953770Z",
     "start_time": "2020-12-01T08:31:30.945447Z"
    }
   },
   "source": [
    "Работает, как надо, приводит к нормальной форме"
   ]
  },
  {
   "cell_type": "code",
   "execution_count": 149,
   "metadata": {
    "ExecuteTime": {
     "end_time": "2020-12-01T08:44:26.510988Z",
     "start_time": "2020-12-01T08:44:26.485267Z"
    }
   },
   "outputs": [
    {
     "name": "stdout",
     "output_type": "stream",
     "text": [
      "До леммитизации: 72\n",
      "После леммитизации: 64\n"
     ]
    }
   ],
   "source": [
    "print('До леммитизации:', len(filtered_tokens))\n",
    "\n",
    "lemm_tokens = set()\n",
    "for token in filtered_tokens:\n",
    "    lemm_tokens.add(morph.parse(token)[0].normal_form)\n",
    "\n",
    "print('После леммитизации:', len(lemm_tokens))"
   ]
  },
  {
   "cell_type": "code",
   "execution_count": 172,
   "metadata": {
    "ExecuteTime": {
     "end_time": "2020-12-01T09:05:25.920322Z",
     "start_time": "2020-12-01T09:05:25.911627Z"
    }
   },
   "outputs": [],
   "source": [
    "df = pd.DataFrame(columns=lemm_tokens)"
   ]
  },
  {
   "cell_type": "code",
   "execution_count": 191,
   "metadata": {
    "ExecuteTime": {
     "end_time": "2020-12-01T09:21:30.012662Z",
     "start_time": "2020-12-01T09:21:29.996923Z"
    }
   },
   "outputs": [
    {
     "data": {
      "text/html": [
       "<div>\n",
       "<style scoped>\n",
       "    .dataframe tbody tr th:only-of-type {\n",
       "        vertical-align: middle;\n",
       "    }\n",
       "\n",
       "    .dataframe tbody tr th {\n",
       "        vertical-align: top;\n",
       "    }\n",
       "\n",
       "    .dataframe thead th {\n",
       "        text-align: right;\n",
       "    }\n",
       "</style>\n",
       "<table border=\"1\" class=\"dataframe\">\n",
       "  <thead>\n",
       "    <tr style=\"text-align: right;\">\n",
       "      <th></th>\n",
       "      <th>тесный</th>\n",
       "      <th>профессия</th>\n",
       "      <th>клиент</th>\n",
       "      <th>разработка</th>\n",
       "      <th>обсуждение</th>\n",
       "      <th>продолжаться</th>\n",
       "      <th>представлять</th>\n",
       "      <th>соответственно</th>\n",
       "      <th>неспособный</th>\n",
       "      <th>строитель</th>\n",
       "      <th>...</th>\n",
       "      <th>принять</th>\n",
       "      <th>навык</th>\n",
       "      <th>фактор</th>\n",
       "      <th>процесс</th>\n",
       "      <th>но</th>\n",
       "      <th>.</th>\n",
       "      <th>один</th>\n",
       "      <th>квалифицировать</th>\n",
       "      <th>который</th>\n",
       "      <th>ответственность</th>\n",
       "    </tr>\n",
       "  </thead>\n",
       "  <tbody>\n",
       "  </tbody>\n",
       "</table>\n",
       "<p>0 rows × 64 columns</p>\n",
       "</div>"
      ],
      "text/plain": [
       "Empty DataFrame\n",
       "Columns: [тесный, профессия, клиент, разработка, обсуждение, продолжаться, представлять, соответственно, неспособный, строитель, аспект, это, экономический, требование, изменение, компетентный, сообщество, выше, комбинация, строительство, тесно, в, город, технологический, старый, сегодня, технический, отдельный, сторона, осуществление, здание, размер, влиять, подчинить, эстетический, организационный, партнёр, общество, изменяться, включать, связать, артистический, социологический, проект, задача, архитектор, нуждаться, проектирование, определённый, -, ,, интерес, организация, идеал, принять, навык, фактор, процесс, но, ., один, квалифицировать, который, ответственность]\n",
       "Index: []\n",
       "\n",
       "[0 rows x 64 columns]"
      ]
     },
     "execution_count": 191,
     "metadata": {},
     "output_type": "execute_result"
    }
   ],
   "source": [
    "df"
   ]
  },
  {
   "cell_type": "code",
   "execution_count": 185,
   "metadata": {
    "ExecuteTime": {
     "end_time": "2020-12-01T09:15:19.916662Z",
     "start_time": "2020-12-01T09:15:19.913050Z"
    }
   },
   "outputs": [],
   "source": [
    "text_example_1 = 'Какой-то текст Профессия проекта аспектах представляя представляя'\n",
    "text_example_2= 'текст идеале проекта нуждаются соответственно неспособен'\n",
    "\n",
    "corpus = [text_example_1, text_example_2]"
   ]
  },
  {
   "cell_type": "code",
   "execution_count": 175,
   "metadata": {
    "ExecuteTime": {
     "end_time": "2020-12-01T09:05:35.859751Z",
     "start_time": "2020-12-01T09:05:35.854811Z"
    }
   },
   "outputs": [],
   "source": [
    "def prep(text):\n",
    "    tokens = word_tokenize(text, language='russian')\n",
    "    stop_words = stopwords.words('russian')\n",
    "\n",
    "    filtered_tokens = set()\n",
    "    for token in tokens:\n",
    "        if token not in stop_words:\n",
    "            filtered_tokens.add(token)\n",
    "            \n",
    "    morph = pymorphy2.MorphAnalyzer()\n",
    "    \n",
    "    lemm_tokens = set()\n",
    "    for token in filtered_tokens:\n",
    "        lemm_tokens.add(morph.parse(token)[0].normal_form)\n",
    "        \n",
    "    return lemm_tokens"
   ]
  },
  {
   "cell_type": "code",
   "execution_count": 186,
   "metadata": {
    "ExecuteTime": {
     "end_time": "2020-12-01T09:15:25.736011Z",
     "start_time": "2020-12-01T09:15:25.482050Z"
    }
   },
   "outputs": [
    {
     "name": "stdout",
     "output_type": "stream",
     "text": [
      "{'профессия', 'какой-то', 'представлять', 'проект', 'текст', 'аспект'}\n",
      "{'идеал', 'проект', 'соответственно', 'неспособный', 'текст', 'нуждаться'}\n"
     ]
    }
   ],
   "source": [
    "print(prep(text_example_1))\n",
    "print(prep(text_example_2))"
   ]
  },
  {
   "cell_type": "code",
   "execution_count": 194,
   "metadata": {
    "ExecuteTime": {
     "end_time": "2020-12-01T09:21:49.377442Z",
     "start_time": "2020-12-01T09:21:49.164913Z"
    }
   },
   "outputs": [],
   "source": [
    "wordfreq = dict.fromkeys(lemm_tokens, 0)\n",
    "for sentence in corpus:\n",
    "    tokens = prep(sentence)\n",
    "    for token in tokens:\n",
    "        if token in wordfreq.keys():\n",
    "            wordfreq[token] += 1\n",
    "    df = df.append(wordfreq, ignore_index=True)\n",
    "    wordfreq = dict.fromkeys(lemm_tokens, 0)"
   ]
  },
  {
   "cell_type": "code",
   "execution_count": 196,
   "metadata": {
    "ExecuteTime": {
     "end_time": "2020-12-01T09:22:14.811671Z",
     "start_time": "2020-12-01T09:22:14.781115Z"
    }
   },
   "outputs": [
    {
     "data": {
      "text/html": [
       "<div>\n",
       "<style scoped>\n",
       "    .dataframe tbody tr th:only-of-type {\n",
       "        vertical-align: middle;\n",
       "    }\n",
       "\n",
       "    .dataframe tbody tr th {\n",
       "        vertical-align: top;\n",
       "    }\n",
       "\n",
       "    .dataframe thead th {\n",
       "        text-align: right;\n",
       "    }\n",
       "</style>\n",
       "<table border=\"1\" class=\"dataframe\">\n",
       "  <thead>\n",
       "    <tr style=\"text-align: right;\">\n",
       "      <th></th>\n",
       "      <th>тесный</th>\n",
       "      <th>профессия</th>\n",
       "      <th>клиент</th>\n",
       "      <th>разработка</th>\n",
       "      <th>обсуждение</th>\n",
       "      <th>продолжаться</th>\n",
       "      <th>представлять</th>\n",
       "      <th>соответственно</th>\n",
       "      <th>неспособный</th>\n",
       "      <th>строитель</th>\n",
       "      <th>...</th>\n",
       "      <th>принять</th>\n",
       "      <th>навык</th>\n",
       "      <th>фактор</th>\n",
       "      <th>процесс</th>\n",
       "      <th>но</th>\n",
       "      <th>.</th>\n",
       "      <th>один</th>\n",
       "      <th>квалифицировать</th>\n",
       "      <th>который</th>\n",
       "      <th>ответственность</th>\n",
       "    </tr>\n",
       "  </thead>\n",
       "  <tbody>\n",
       "    <tr>\n",
       "      <th>0</th>\n",
       "      <td>0</td>\n",
       "      <td>1</td>\n",
       "      <td>0</td>\n",
       "      <td>0</td>\n",
       "      <td>0</td>\n",
       "      <td>0</td>\n",
       "      <td>1</td>\n",
       "      <td>0</td>\n",
       "      <td>0</td>\n",
       "      <td>0</td>\n",
       "      <td>...</td>\n",
       "      <td>0</td>\n",
       "      <td>0</td>\n",
       "      <td>0</td>\n",
       "      <td>0</td>\n",
       "      <td>0</td>\n",
       "      <td>0</td>\n",
       "      <td>0</td>\n",
       "      <td>0</td>\n",
       "      <td>0</td>\n",
       "      <td>0</td>\n",
       "    </tr>\n",
       "    <tr>\n",
       "      <th>1</th>\n",
       "      <td>0</td>\n",
       "      <td>0</td>\n",
       "      <td>0</td>\n",
       "      <td>0</td>\n",
       "      <td>0</td>\n",
       "      <td>0</td>\n",
       "      <td>0</td>\n",
       "      <td>1</td>\n",
       "      <td>1</td>\n",
       "      <td>0</td>\n",
       "      <td>...</td>\n",
       "      <td>0</td>\n",
       "      <td>0</td>\n",
       "      <td>0</td>\n",
       "      <td>0</td>\n",
       "      <td>0</td>\n",
       "      <td>0</td>\n",
       "      <td>0</td>\n",
       "      <td>0</td>\n",
       "      <td>0</td>\n",
       "      <td>0</td>\n",
       "    </tr>\n",
       "  </tbody>\n",
       "</table>\n",
       "<p>2 rows × 64 columns</p>\n",
       "</div>"
      ],
      "text/plain": [
       "  тесный профессия клиент разработка обсуждение продолжаться представлять  \\\n",
       "0      0         1      0          0          0            0            1   \n",
       "1      0         0      0          0          0            0            0   \n",
       "\n",
       "  соответственно неспособный строитель  ... принять навык фактор процесс но  \\\n",
       "0              0           0         0  ...       0     0      0       0  0   \n",
       "1              1           1         0  ...       0     0      0       0  0   \n",
       "\n",
       "   . один квалифицировать который ответственность  \n",
       "0  0    0               0       0               0  \n",
       "1  0    0               0       0               0  \n",
       "\n",
       "[2 rows x 64 columns]"
      ]
     },
     "execution_count": 196,
     "metadata": {},
     "output_type": "execute_result"
    }
   ],
   "source": [
    "df"
   ]
  },
  {
   "cell_type": "markdown",
   "metadata": {
    "ExecuteTime": {
     "end_time": "2020-12-01T09:33:14.906313Z",
     "start_time": "2020-12-01T09:33:14.897387Z"
    }
   },
   "source": [
    "Аналогично сделать для реальных данных и обучить модель"
   ]
  },
  {
   "cell_type": "code",
   "execution_count": 197,
   "metadata": {
    "ExecuteTime": {
     "end_time": "2020-12-01T09:26:13.527339Z",
     "start_time": "2020-12-01T09:25:50.205105Z"
    }
   },
   "outputs": [
    {
     "name": "stderr",
     "output_type": "stream",
     "text": [
      "[nltk_data] Downloading collection 'popular'\n",
      "[nltk_data]    | \n",
      "[nltk_data]    | Downloading package cmudict to\n",
      "[nltk_data]    |     /Users/EvteevIS/nltk_data...\n",
      "[nltk_data]    |   Unzipping corpora/cmudict.zip.\n",
      "[nltk_data]    | Downloading package gazetteers to\n",
      "[nltk_data]    |     /Users/EvteevIS/nltk_data...\n",
      "[nltk_data]    |   Unzipping corpora/gazetteers.zip.\n",
      "[nltk_data]    | Downloading package genesis to\n",
      "[nltk_data]    |     /Users/EvteevIS/nltk_data...\n",
      "[nltk_data]    |   Unzipping corpora/genesis.zip.\n",
      "[nltk_data]    | Downloading package gutenberg to\n",
      "[nltk_data]    |     /Users/EvteevIS/nltk_data...\n",
      "[nltk_data]    |   Unzipping corpora/gutenberg.zip.\n",
      "[nltk_data]    | Downloading package inaugural to\n",
      "[nltk_data]    |     /Users/EvteevIS/nltk_data...\n",
      "[nltk_data]    |   Unzipping corpora/inaugural.zip.\n",
      "[nltk_data]    | Downloading package movie_reviews to\n",
      "[nltk_data]    |     /Users/EvteevIS/nltk_data...\n",
      "[nltk_data]    |   Unzipping corpora/movie_reviews.zip.\n",
      "[nltk_data]    | Downloading package names to\n",
      "[nltk_data]    |     /Users/EvteevIS/nltk_data...\n",
      "[nltk_data]    |   Unzipping corpora/names.zip.\n",
      "[nltk_data]    | Downloading package shakespeare to\n",
      "[nltk_data]    |     /Users/EvteevIS/nltk_data...\n",
      "[nltk_data]    |   Unzipping corpora/shakespeare.zip.\n",
      "[nltk_data]    | Downloading package stopwords to\n",
      "[nltk_data]    |     /Users/EvteevIS/nltk_data...\n",
      "[nltk_data]    |   Package stopwords is already up-to-date!\n",
      "[nltk_data]    | Downloading package treebank to\n",
      "[nltk_data]    |     /Users/EvteevIS/nltk_data...\n",
      "[nltk_data]    |   Unzipping corpora/treebank.zip.\n",
      "[nltk_data]    | Downloading package twitter_samples to\n",
      "[nltk_data]    |     /Users/EvteevIS/nltk_data...\n",
      "[nltk_data]    |   Unzipping corpora/twitter_samples.zip.\n",
      "[nltk_data]    | Downloading package omw to\n",
      "[nltk_data]    |     /Users/EvteevIS/nltk_data...\n",
      "[nltk_data]    |   Unzipping corpora/omw.zip.\n",
      "[nltk_data]    | Downloading package wordnet to\n",
      "[nltk_data]    |     /Users/EvteevIS/nltk_data...\n",
      "[nltk_data]    |   Unzipping corpora/wordnet.zip.\n",
      "[nltk_data]    | Downloading package wordnet_ic to\n",
      "[nltk_data]    |     /Users/EvteevIS/nltk_data...\n",
      "[nltk_data]    |   Unzipping corpora/wordnet_ic.zip.\n",
      "[nltk_data]    | Downloading package words to\n",
      "[nltk_data]    |     /Users/EvteevIS/nltk_data...\n",
      "[nltk_data]    |   Unzipping corpora/words.zip.\n",
      "[nltk_data]    | Downloading package maxent_ne_chunker to\n",
      "[nltk_data]    |     /Users/EvteevIS/nltk_data...\n",
      "[nltk_data]    |   Unzipping chunkers/maxent_ne_chunker.zip.\n",
      "[nltk_data]    | Downloading package punkt to\n",
      "[nltk_data]    |     /Users/EvteevIS/nltk_data...\n",
      "[nltk_data]    |   Package punkt is already up-to-date!\n",
      "[nltk_data]    | Downloading package snowball_data to\n",
      "[nltk_data]    |     /Users/EvteevIS/nltk_data...\n",
      "[nltk_data]    | Downloading package averaged_perceptron_tagger to\n",
      "[nltk_data]    |     /Users/EvteevIS/nltk_data...\n",
      "[nltk_data]    |   Unzipping taggers/averaged_perceptron_tagger.zip.\n",
      "[nltk_data]    | \n",
      "[nltk_data]  Done downloading collection popular\n"
     ]
    },
    {
     "data": {
      "text/plain": [
       "True"
      ]
     },
     "execution_count": 197,
     "metadata": {},
     "output_type": "execute_result"
    }
   ],
   "source": [
    "import nltk\n",
    "import ssl\n",
    "\n",
    "try:\n",
    "    _create_unverified_https_context = ssl._create_unverified_context\n",
    "except AttributeError:\n",
    "    pass\n",
    "else:\n",
    "    ssl._create_default_https_context = _create_unverified_https_context\n",
    "\n",
    "nltk.download('popular')"
   ]
  },
  {
   "cell_type": "code",
   "execution_count": null,
   "metadata": {},
   "outputs": [],
   "source": []
  }
 ],
 "metadata": {
  "kernelspec": {
   "display_name": "Python 3",
   "language": "python",
   "name": "python3"
  },
  "language_info": {
   "codemirror_mode": {
    "name": "ipython",
    "version": 3
   },
   "file_extension": ".py",
   "mimetype": "text/x-python",
   "name": "python",
   "nbconvert_exporter": "python",
   "pygments_lexer": "ipython3",
   "version": "3.8.6"
  }
 },
 "nbformat": 4,
 "nbformat_minor": 4
}
